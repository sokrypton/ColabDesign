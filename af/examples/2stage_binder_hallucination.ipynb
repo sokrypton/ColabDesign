{
  "cells": [
    {
      "cell_type": "markdown",
      "metadata": {
        "id": "view-in-github",
        "colab_type": "text"
      },
      "source": [
        "<a href=\"https://colab.research.google.com/github/sokrypton/ColabDesign/blob/main/af/examples/2stage_binder_hallucination.ipynb\" target=\"_parent\"><img src=\"https://colab.research.google.com/assets/colab-badge.svg\" alt=\"Open In Colab\"/></a>"
      ]
    },
    {
      "cell_type": "markdown",
      "metadata": {
        "id": "OA2k3sAYuiXe"
      },
      "source": [
        "# AfDesign - two-stage binder hallucination\n",
        "For a given protein target and protein binder length, generate/hallucinate a protein binder sequence AlphaFold thinks will bind to the target structure. To do this, we minimize PAE and maximize number of contacts at the interface and within the binder, and we maximize pLDDT of the binder.\n",
        "\n",
        "**WARNING**\n",
        "1.   This notebook is in active development and was designed for demonstration purposes only.\n",
        "2.   Using AfDesign as the only \"loss\" function for design might be a bad idea, you may find adversarial sequences (aka. sequences that trick AlphaFold)."
      ]
    },
    {
      "cell_type": "code",
      "execution_count": null,
      "metadata": {
        "cellView": "form",
        "id": "-AXy0s_4cKaK"
      },
      "outputs": [],
      "source": [
        "#@title install\n",
        "%%bash\n",
        "if [ ! -d params ]; then\n",
        "  pip -q install git+https://github.com/sokrypton/ColabDesign.git\n",
        "  mkdir params\n",
        "  curl -fsSL https://storage.googleapis.com/alphafold/alphafold_params_2022-03-02.tar | tar x -C params\n",
        "  for W in openfold_model_ptm_1 openfold_model_ptm_2 openfold_model_no_templ_ptm_1\n",
        "  do wget -qnc https://files.ipd.uw.edu/krypton/openfold/${W}.npz -P params; done\n",
        "fi"
      ]
    },
    {
      "cell_type": "code",
      "execution_count": null,
      "metadata": {
        "cellView": "form",
        "id": "Vt7G_nbNeSQ3"
      },
      "outputs": [],
      "source": [
        "#@title #import libraries\n",
        "import warnings\n",
        "warnings.simplefilter(action='ignore', category=FutureWarning)\n",
        "\n",
        "import os\n",
        "from colabdesign import mk_afdesign_model, clear_mem\n",
        "from IPython.display import HTML\n",
        "from google.colab import files\n",
        "import numpy as np\n",
        "\n",
        "#########################\n",
        "def get_pdb(pdb_code=\"\"):\n",
        "  if pdb_code is None or pdb_code == \"\":\n",
        "    upload_dict = files.upload()\n",
        "    pdb_string = upload_dict[list(upload_dict.keys())[0]]\n",
        "    with open(\"tmp.pdb\",\"wb\") as out: out.write(pdb_string)\n",
        "    return \"tmp.pdb\"\n",
        "  else:\n",
        "    os.system(f\"wget -qnc https://files.rcsb.org/view/{pdb_code}.pdb\")\n",
        "    return f\"{pdb_code}.pdb\""
      ]
    },
    {
      "cell_type": "code",
      "source": [
        "#@title # Prep Inputs\n",
        "pdb = \"4N5T\" #@param {type:\"string\"}\n",
        "chain = \"A\" #@param {type:\"string\"}\n",
        "binder_len =  50#@param {type:\"integer\"}\n",
        "hotspot = \"\" #@param {type:\"string\"}\n",
        "if hotspot == \"\": hotspot = None\n",
        "\n",
        "x = {\"pdb_filename\":pdb, \"chain\":chain, \"binder_len\":binder_len, \"hotspot\":hotspot}\n",
        "if \"x_prev\" not in dir() or x != x_prev:\n",
        "  x[\"pdb_filename\"] = get_pdb(x[\"pdb_filename\"])\n",
        "  \n",
        "  clear_mem()\n",
        "  model = mk_afdesign_model(protocol=\"binder\")\n",
        "  model.prep_inputs(**x)\n",
        "\n",
        "  pre_model = mk_afdesign_model(protocol=\"hallucination\")\n",
        "  pre_model.prep_inputs(length=binder_len)\n",
        "\n",
        "  x_prev = x\n",
        "  print(\"target length:\", model._target_len)\n",
        "  print(\"binder length:\", model._binder_len)"
      ],
      "metadata": {
        "cellView": "form",
        "id": "HSgE99WALOE-"
      },
      "execution_count": null,
      "outputs": []
    },
    {
      "cell_type": "code",
      "source": [
        "#@title #stage 1 - Pre-hallucinate binder scaffold\n",
        "#@markdown ---\n",
        "#@markdown ####Weights\n",
        "#@markdown - Minimizing `pae` or maximizing `plddt` often results in a single helix.\n",
        "#@markdown To avoid this, we start with a random sequence and instead try to optimize \n",
        "#@markdown defined `num`ber of `con`tacts per position. \n",
        "pae = 0.1 #@param [\"0.01\", \"0.1\", \"0.5\", \"1.0\"] {type:\"raw\"}\n",
        "plddt = 0.1 #@param [\"0.01\", \"0.1\", \"0.5\", \"1.0\"] {type:\"raw\"}\n",
        "helix = 0.0 \n",
        "con = 1.0 #@param [\"0.01\", \"0.1\", \"0.5\", \"1.0\"] {type:\"raw\"}\n",
        "#@markdown ####Contact Definition\n",
        "#@markdown - The contact definition is based on Cb-Cb diststance `cutoff`. To avoid \n",
        "#@markdown biasing towards helical contact, only contacts with sequence seperation > \n",
        "#@markdown `seqsep` are considered.\n",
        "\n",
        "seqsep = 9 #@param [\"0\",\"5\",\"9\"] {type:\"raw\"}\n",
        "cutoff = \"14\" #@param [\"8\", \"14\", \"max\"]\n",
        "num = \"2\" #@param [\"1\", \"2\", \"3\", \"4\", \"8\", \"max\"]\n",
        "binary = True #@param {type:\"boolean\"}\n",
        "if cutoff == \"max\": cutoff = 21.6875\n",
        "if num == \"max\": num = binder_len\n",
        "\n",
        "pre_opt = {\"con\":{\"seqsep\":int(seqsep),\"cutoff\":float(cutoff),\"num\":int(num),\n",
        "           \"binary\":binary}}\n",
        "pre_weights = {\"con\":float(con),\"helix\":float(helix),\n",
        "               \"pae\":float(pae),\"plddt\":float(plddt)}\n",
        "\n",
        "# pre-design with gumbel initialization and softmax activation\n",
        "pre_model.restart(mode=\"gumbel\", opt=pre_opt, weights=pre_weights)\n",
        "pre_model.design_soft(50)\n",
        "save_seq = np.asarray(pre_model.aux[\"seq\"][\"pseudo\"])\n",
        "\n",
        "# refine\n",
        "pre_model.restart(seq=save_seq, opt=pre_opt, weights=pre_weights, keep_history=True)\n",
        "pre_model.design(50, soft=0.0, e_soft=1.0)\n",
        "save_seq = np.asarray(pre_model.aux[\"seq\"][\"pseudo\"])"
      ],
      "metadata": {
        "cellView": "form",
        "id": "TX1aPX0fXa6D"
      },
      "execution_count": null,
      "outputs": []
    },
    {
      "cell_type": "code",
      "source": [
        "#@markdown ## display pre-hallucinated binder scaffold {run: \"auto\"}\n",
        "color = \"pLDDT\" #@param [\"chain\", \"pLDDT\", \"rainbow\"]\n",
        "show_sidechains = False #@param {type:\"boolean\"}\n",
        "show_mainchains = False #@param {type:\"boolean\"}\n",
        "pre_model.plot_pdb(show_sidechains=show_sidechains,\n",
        "                   show_mainchains=show_mainchains,\n",
        "                   color=color)"
      ],
      "metadata": {
        "cellView": "form",
        "id": "gz7wRJaGXs9e"
      },
      "execution_count": null,
      "outputs": []
    },
    {
      "cell_type": "code",
      "source": [
        "HTML(pre_model.animate())"
      ],
      "metadata": {
        "id": "5OJdtq8trTB4"
      },
      "execution_count": null,
      "outputs": []
    },
    {
      "cell_type": "code",
      "source": [
        "#@title #state 2 - binder design\n",
        "#@markdown ---\n",
        "#@markdown ####interface Weights\n",
        "i_pae = 1.0 #@param [\"0.01\", \"0.1\", \"0.5\", \"1.0\"] {type:\"raw\"}\n",
        "i_con = 0.5 #@param [\"0.01\", \"0.1\", \"0.5\", \"1.0\"] {type:\"raw\"}\n",
        "weights = {\"i_pae\":float(i_pae),\n",
        "           \"i_con\":float(i_con),\n",
        "           **pre_weights}\n",
        "\n",
        "#@markdown ####interface Contact Definition\n",
        "cutoff = \"max\" #@param [\"8\", \"14\", \"max\"]\n",
        "num = \"max\" #@param [\"1\", \"2\", \"4\", \"8\", \"max\"]\n",
        "binary = True #@param {type:\"boolean\"}\n",
        "if cutoff == \"max\": cutoff = 21.6875\n",
        "if num == \"max\": num = binder_len\n",
        "\n",
        "opt = {\"i_con\":{\"cutoff\":float(cutoff),\"num\":int(num),\n",
        "                \"binary\":binary},\n",
        "       **pre_opt}\n",
        "\n",
        "model.restart(seq=save_seq, opt=opt, weights=weights)\n",
        "model.design_3stage(100,100,10)"
      ],
      "metadata": {
        "cellView": "form",
        "id": "eCGc3J663NGz"
      },
      "execution_count": null,
      "outputs": []
    },
    {
      "cell_type": "code",
      "source": [
        "#@markdown ## display hallucinated binder {run: \"auto\"}\n",
        "color = \"chain\" #@param [\"chain\", \"pLDDT\", \"rainbow\"]\n",
        "show_sidechains = False #@param {type:\"boolean\"}\n",
        "show_mainchains = False #@param {type:\"boolean\"}\n",
        "model.save_pdb(f\"{model.protocol}.pdb\")\n",
        "model.plot_pdb(show_sidechains=show_sidechains,\n",
        "                   show_mainchains=show_mainchains,\n",
        "                   color=color)"
      ],
      "metadata": {
        "cellView": "form",
        "id": "Ec0BnP1ehH5w"
      },
      "execution_count": null,
      "outputs": []
    },
    {
      "cell_type": "code",
      "execution_count": null,
      "metadata": {
        "id": "L2E9Tn2Acchj"
      },
      "outputs": [],
      "source": [
        "HTML(model.animate())"
      ]
    },
    {
      "cell_type": "code",
      "execution_count": null,
      "metadata": {
        "id": "YSKWYu0_GlUH"
      },
      "outputs": [],
      "source": [
        "model.get_seqs()"
      ]
    }
  ],
  "metadata": {
    "accelerator": "GPU",
    "colab": {
      "collapsed_sections": [
        "q4qiU9I0QHSz"
      ],
      "name": "2stage_binder_hallucination.ipynb",
      "provenance": [],
      "include_colab_link": true
    },
    "kernelspec": {
      "display_name": "Python 3",
      "name": "python3"
    },
    "language_info": {
      "name": "python"
    }
  },
  "nbformat": 4,
  "nbformat_minor": 0
}
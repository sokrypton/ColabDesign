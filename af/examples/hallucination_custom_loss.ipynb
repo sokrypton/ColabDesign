{
  "cells": [
    {
      "cell_type": "markdown",
      "metadata": {
        "id": "view-in-github",
        "colab_type": "text"
      },
      "source": [
        "<a href=\"https://colab.research.google.com/github/sokrypton/ColabDesign/blob/v1.1.1/af/examples/hallucination_custom_loss.ipynb\" target=\"_parent\"><img src=\"https://colab.research.google.com/assets/colab-badge.svg\" alt=\"Open In Colab\"/></a>"
      ]
    },
    {
      "cell_type": "markdown",
      "metadata": {
        "id": "OA2k3sAYuiXe"
      },
      "source": [
        "# AfDesign - hallucination custom loss example\n",
        "Backprop through AlphaFold for protein design."
      ]
    },
    {
      "cell_type": "code",
      "execution_count": null,
      "metadata": {
        "cellView": "form",
        "id": "-AXy0s_4cKaK"
      },
      "outputs": [],
      "source": [
        "#@title setup\n",
        "%%time\n",
        "import os\n",
        "if not os.path.isdir(\"params\"):\n",
        "  # get code\n",
        "  os.system(\"pip -q install git+https://github.com/sokrypton/ColabDesign.git@v1.1.1\")\n",
        "  # for debugging\n",
        "  os.system(\"ln -s /usr/local/lib/python3.*/dist-packages/colabdesign colabdesign\")\n",
        "  # download params\n",
        "  os.system(\"mkdir params\")\n",
        "  os.system(\"apt-get install aria2 -qq\")\n",
        "  os.system(\"aria2c -q -x 16 https://storage.googleapis.com/alphafold/alphafold_params_2022-12-06.tar\")\n",
        "  os.system(\"tar -xf alphafold_params_2022-12-06.tar -C params\")\n",
        "\n",
        "import warnings\n",
        "warnings.simplefilter(action='ignore', category=FutureWarning)\n",
        "\n",
        "import os\n",
        "from colabdesign import mk_afdesign_model, clear_mem\n",
        "from IPython.display import HTML\n",
        "from google.colab import files\n",
        "import numpy as np\n",
        "\n",
        "def get_pdb(pdb_code=\"\"):\n",
        "  if pdb_code is None or pdb_code == \"\":\n",
        "    upload_dict = files.upload()\n",
        "    pdb_string = upload_dict[list(upload_dict.keys())[0]]\n",
        "    with open(\"tmp.pdb\",\"wb\") as out: out.write(pdb_string)\n",
        "    return \"tmp.pdb\"\n",
        "  elif os.path.isfile(pdb_code):\n",
        "    return pdb_code\n",
        "  elif len(pdb_code) == 4:\n",
        "    os.system(f\"wget -qnc https://files.rcsb.org/view/{pdb_code}.pdb\")\n",
        "    return f\"{pdb_code}.pdb\"\n",
        "  else:\n",
        "    os.system(f\"wget -qnc https://alphafold.ebi.ac.uk/files/AF-{pdb_code}-F1-model_v3.pdb\")\n",
        "    return f\"AF-{pdb_code}-F1-model_v3.pdb\""
      ]
    },
    {
      "cell_type": "markdown",
      "metadata": {
        "id": "UUfKrOzT0gOS"
      },
      "source": [
        "# Custom loss"
      ]
    },
    {
      "cell_type": "code",
      "execution_count": null,
      "metadata": {
        "id": "qLd1DsnKzxBJ"
      },
      "outputs": [],
      "source": [
        "clear_mem()\n",
        "af_model = mk_afdesign_model(protocol=\"hallucination\", debug=True)\n",
        "af_model.prep_inputs(length=100)\n",
        "\n",
        "print(\"length\",  af_model._len)\n",
        "print(\"weights\", af_model.opt[\"weights\"])"
      ]
    },
    {
      "cell_type": "code",
      "source": [
        "af_model.restart(mode=\"gumbel\",seed=0)\n",
        "af_model.set_opt(soft=True)\n",
        "af_model.run(backprop=False)"
      ],
      "metadata": {
        "id": "u0AwskJ84NGx"
      },
      "execution_count": null,
      "outputs": []
    },
    {
      "cell_type": "code",
      "source": [
        "from colabdesign.af.alphafold.common import residue_constants\n",
        "import jax\n",
        "import jax.numpy as jnp\n",
        "\n",
        "# first off, let's implement a custom Radius of Gyration loss function\n",
        "def rg_loss(inputs, outputs):\n",
        "  positions = outputs[\"structure_module\"][\"final_atom_positions\"]\n",
        "  ca = positions[:,residue_constants.atom_order[\"CA\"]]\n",
        "  center = ca.mean(0)\n",
        "  rg = jnp.sqrt(jnp.square(ca - center).sum(-1).mean() + 1e-8)\n",
        "  rg_th = 2.38 * ca.shape[0] ** 0.365\n",
        "  rg = jax.nn.elu(rg - rg_th)\n",
        "  return {\"rg\":rg}"
      ],
      "metadata": {
        "id": "SGxkLR_4VsQI"
      },
      "execution_count": null,
      "outputs": []
    },
    {
      "cell_type": "code",
      "source": [
        "af_model.aux[\"debug\"].keys()"
      ],
      "metadata": {
        "id": "LAgsoVLhcJdr"
      },
      "execution_count": null,
      "outputs": []
    },
    {
      "cell_type": "code",
      "source": [
        "rg_loss(**af_model.aux[\"debug\"])"
      ],
      "metadata": {
        "id": "enMbbgFnWLwF"
      },
      "execution_count": null,
      "outputs": []
    },
    {
      "cell_type": "markdown",
      "source": [
        "#Let's add it to the model!"
      ],
      "metadata": {
        "id": "jmHGCynter0p"
      }
    },
    {
      "cell_type": "code",
      "source": [
        "clear_mem()\n",
        "af_model = mk_afdesign_model(protocol=\"hallucination\",\n",
        "                             debug=False,\n",
        "                             loss_callback=rg_loss) # add our custom loss\n",
        "af_model.opt[\"weights\"][\"rg\"] = 0.1 # add our loss to weights (so we can later control it)\n",
        "af_model.prep_inputs(length=100)\n",
        "print(\"weights\", af_model.opt[\"weights\"])"
      ],
      "metadata": {
        "id": "0D7Z0U6aVD1V"
      },
      "execution_count": null,
      "outputs": []
    },
    {
      "cell_type": "code",
      "source": [
        "af_model.restart(mode=\"gumbel\", seed=0)\n",
        "af_model.design_soft(50)\n",
        "\n",
        "# three stage design  \n",
        "af_model.set_seq(af_model.aux[\"seq\"][\"pseudo\"])\n",
        "af_model.design_3stage(50,50,10)"
      ],
      "metadata": {
        "id": "Wsc9IWsqXreX"
      },
      "execution_count": null,
      "outputs": []
    },
    {
      "cell_type": "code",
      "execution_count": null,
      "metadata": {
        "id": "YEApO8YzBoS0"
      },
      "outputs": [],
      "source": [
        "af_model.save_pdb(f\"{af_model.protocol}.pdb\")\n",
        "af_model.plot_pdb()"
      ]
    },
    {
      "cell_type": "code",
      "execution_count": null,
      "metadata": {
        "id": "cW1KQiHKJpfp"
      },
      "outputs": [],
      "source": [
        "HTML(af_model.animate())"
      ]
    },
    {
      "cell_type": "code",
      "source": [
        "af_model.get_seqs()"
      ],
      "metadata": {
        "id": "YDrChASGVUUx"
      },
      "execution_count": null,
      "outputs": []
    },
    {
      "cell_type": "code",
      "source": [],
      "metadata": {
        "id": "-js6TX9ZytR9"
      },
      "execution_count": null,
      "outputs": []
    }
  ],
  "metadata": {
    "accelerator": "GPU",
    "colab": {
      "collapsed_sections": [
        "q4qiU9I0QHSz"
      ],
      "name": "hallucination_custom_loss.ipynb",
      "provenance": [],
      "include_colab_link": true
    },
    "kernelspec": {
      "display_name": "Python 3",
      "name": "python3"
    },
    "language_info": {
      "name": "python"
    }
  },
  "nbformat": 4,
  "nbformat_minor": 0
}
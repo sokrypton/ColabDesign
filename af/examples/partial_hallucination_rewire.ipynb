{
  "cells": [
    {
      "cell_type": "markdown",
      "metadata": {
        "id": "view-in-github",
        "colab_type": "text"
      },
      "source": [
        "<a href=\"https://colab.research.google.com/github/sokrypton/ColabDesign/blob/main/af/examples/partial_hallucination_rewire.ipynb\" target=\"_parent\"><img src=\"https://colab.research.google.com/assets/colab-badge.svg\" alt=\"Open In Colab\"/></a>"
      ]
    },
    {
      "cell_type": "markdown",
      "metadata": {
        "id": "OA2k3sAYuiXe"
      },
      "source": [
        "# AfDesign - rewire (partial hallucination)"
      ]
    },
    {
      "cell_type": "code",
      "execution_count": null,
      "metadata": {
        "cellView": "form",
        "id": "-AXy0s_4cKaK"
      },
      "outputs": [],
      "source": [
        "#@title install\n",
        "%%bash\n",
        "if [ ! -d params ]; then\n",
        "  pip -q install git+https://github.com/sokrypton/ColabDesign.git\n",
        "  mkdir params\n",
        "  curl -fsSL https://storage.googleapis.com/alphafold/alphafold_params_2022-03-02.tar | tar x -C params\n",
        "  for W in openfold_model_ptm_1 openfold_model_ptm_2 openfold_model_no_templ_ptm_1\n",
        "  do wget -qnc https://files.ipd.uw.edu/krypton/openfold/${W}.npz -P params; done\n",
        "fi"
      ]
    },
    {
      "cell_type": "code",
      "execution_count": null,
      "metadata": {
        "cellView": "form",
        "id": "Vt7G_nbNeSQ3"
      },
      "outputs": [],
      "source": [
        "#@title import libraries\n",
        "import warnings\n",
        "warnings.simplefilter(action='ignore', category=FutureWarning)\n",
        "\n",
        "import os, re\n",
        "from colabdesign.af import mk_afdesign_model, clear_mem\n",
        "from IPython.display import HTML\n",
        "from google.colab import files\n",
        "import numpy as np\n",
        "\n",
        "#########################\n",
        "def get_pdb(pdb_code=\"\"):\n",
        "  if pdb_code is None or pdb_code == \"\":\n",
        "    upload_dict = files.upload()\n",
        "    pdb_string = upload_dict[list(upload_dict.keys())[0]]\n",
        "    with open(\"tmp.pdb\",\"wb\") as out: out.write(pdb_string)\n",
        "    return \"tmp.pdb\"\n",
        "  else:\n",
        "    os.system(f\"wget -qnc https://files.rcsb.org/view/{pdb_code}.pdb\")\n",
        "    return f\"{pdb_code}.pdb\""
      ]
    },
    {
      "cell_type": "code",
      "source": [
        "# setup the model\n",
        "clear_mem()\n",
        "model = mk_afdesign_model(protocol=\"partial\",\n",
        "                          use_templates=False) # set True to constrain positions using template input\n",
        "                        \n",
        "# define positions we want to constrain (input PDB numbering)\n",
        "old_pos = \"4-9,13-26,30-33,37-50,54-59,63-76,80-84,112-125\"\n",
        "\n",
        "model.prep_inputs(get_pdb(\"2MR5\"), chain=\"A\",\n",
        "                  pos=old_pos,               # define positions to contrain\n",
        "                  length=100,                # define if the desired length is different from input PDB\n",
        "                  fix_seq=False,             # set True to constrain the sequence\n",
        "                  use_sidechains=False)      # set True to restrain the sidechains\n",
        "\n",
        "# set positions (if different from PDB)\n",
        "# reorder the segments, \n",
        "model.rewire(order = [1,2,3,0,7,4,5,6], # set order of segments\n",
        "             loops =  [3,3,3,4,3,3,4],  # change loop length inbetween segments\n",
        "             offset=0)\n",
        "\n",
        "print(model.opt[\"pos\"])"
      ],
      "metadata": {
        "id": "_m7ZaaP4NkII"
      },
      "execution_count": null,
      "outputs": []
    },
    {
      "cell_type": "code",
      "source": [
        "# restart optimization\n",
        "model.restart()\n",
        "\n",
        "# balance weights [dgram_cce=restraint weight], [con=hallucination weight]\n",
        "model.set_weights(dgram_cce=1, con=0.1)\n",
        "\n",
        "# design!\n",
        "model.design_3stage(200,100,10)"
      ],
      "metadata": {
        "id": "bDA8cPqMT_eY"
      },
      "execution_count": null,
      "outputs": []
    },
    {
      "cell_type": "code",
      "source": [
        "model.save_pdb(f\"{model.protocol}.pdb\")\n",
        "model.plot_pdb()"
      ],
      "metadata": {
        "id": "qFegtgcnHdqr"
      },
      "execution_count": null,
      "outputs": []
    },
    {
      "cell_type": "code",
      "source": [
        "HTML(model.animate(dpi=100))"
      ],
      "metadata": {
        "id": "9sjG7kvoHaVi"
      },
      "execution_count": null,
      "outputs": []
    }
  ],
  "metadata": {
    "accelerator": "GPU",
    "colab": {
      "collapsed_sections": [
        "q4qiU9I0QHSz"
      ],
      "name": "partial_hallucination_rewire.ipynb",
      "provenance": [],
      "include_colab_link": true
    },
    "kernelspec": {
      "display_name": "Python 3",
      "name": "python3"
    },
    "language_info": {
      "name": "python"
    }
  },
  "nbformat": 4,
  "nbformat_minor": 0
}
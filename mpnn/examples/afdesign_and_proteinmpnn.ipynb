{
  "cells": [
    {
      "cell_type": "markdown",
      "metadata": {
        "id": "view-in-github",
        "colab_type": "text"
      },
      "source": [
        "<a href=\"https://colab.research.google.com/github/sokrypton/ColabDesign/blob/v1.1.0/mpnn/examples/afdesign_and_proteinmpnn.ipynb\" target=\"_parent\"><img src=\"https://colab.research.google.com/assets/colab-badge.svg\" alt=\"Open In Colab\"/></a>"
      ]
    },
    {
      "cell_type": "markdown",
      "metadata": {
        "id": "OA2k3sAYuiXe"
      },
      "source": [
        "#AfDesign + ProteinMPNN (v1.1.0)\n",
        "Backprop through AlphaFold for protein design.\n",
        "\n",
        "**WARNING**\n",
        "1.   This notebook is in active development and was designed for demonstration purposes only.\n",
        "2.   Using AfDesign as the only \"loss\" function for design might be a bad idea, you may find adversarial sequences (aka. sequences that trick AlphaFold). To avoid this problem, we couple it with ProteinMPNN."
      ]
    },
    {
      "cell_type": "code",
      "execution_count": null,
      "metadata": {
        "id": "-AXy0s_4cKaK",
        "cellView": "form"
      },
      "outputs": [],
      "source": [
        "#@title install\n",
        "%%bash\n",
        "if [ ! -d params ]; then\n",
        "  # get code\n",
        "  pip -q install git+https://github.com/sokrypton/ColabDesign.git@v1.1.0\n",
        "  # for debugging\n",
        "  ln -s /usr/local/lib/python3.7/dist-packages/colabdesign colabdesign\n",
        "  # download params\n",
        "  mkdir params\n",
        "  curl -fsSL https://storage.googleapis.com/alphafold/alphafold_params_2022-03-02.tar | tar x -C params\n",
        "fi"
      ]
    },
    {
      "cell_type": "code",
      "execution_count": null,
      "metadata": {
        "cellView": "form",
        "id": "Vt7G_nbNeSQ3"
      },
      "outputs": [],
      "source": [
        "#@title import libraries\n",
        "import warnings\n",
        "warnings.simplefilter(action='ignore', category=FutureWarning)\n",
        "import os\n",
        "os.environ['XLA_PYTHON_CLIENT_PREALLOCATE'] = 'false'\n",
        "\n",
        "from colabdesign.af import mk_af_model, clear_mem\n",
        "from colabdesign.af.alphafold.common import residue_constants\n",
        "from colabdesign.mpnn import mk_mpnn_model\n",
        "from colabdesign.shared.utils import copy_dict\n",
        "from IPython.display import HTML\n",
        "from google.colab import files\n",
        "\n",
        "import numpy as np\n",
        "from scipy.special import softmax, log_softmax\n",
        "import matplotlib.pyplot as plt\n",
        "import jax\n",
        "import jax.numpy as jnp\n",
        "\n",
        "def get_pdb(pdb_code=\"\"):\n",
        "  if pdb_code is None or pdb_code == \"\":\n",
        "    upload_dict = files.upload()\n",
        "    pdb_string = upload_dict[list(upload_dict.keys())[0]]\n",
        "    with open(\"tmp.pdb\",\"wb\") as out: out.write(pdb_string)\n",
        "    return \"tmp.pdb\"\n",
        "  else:\n",
        "    os.system(f\"wget -qnc https://files.rcsb.org/view/{pdb_code}.pdb\")\n",
        "    return f\"{pdb_code}.pdb\"\n",
        "\n",
        "class setup_mpnn:\n",
        "  def __init__(self, af_model, precompute=True, conditional=False, backprop=False, replace=0.01):\n",
        "    self.af = af_model\n",
        "    self.mpnn = mk_mpnn_model()\n",
        "    self.atom_idx = tuple(residue_constants.atom_order[k] for k in [\"N\",\"CA\",\"C\",\"O\"])\n",
        "    self.replace = replace\n",
        "    self.conditional = conditional\n",
        "    self.backprop = backprop\n",
        "\n",
        "    if precompute:\n",
        "      self.precompute()\n",
        "    else:\n",
        "      self.af._callbacks[\"design\"][\"post\"].append(self._design_callback)\n",
        "\n",
        "    self.af._callbacks[\"model\"][\"loss\"].append(self._loss_callback)\n",
        "    self.af.opt[\"weights\"][\"mpnn_loss\"] = 1.0\n",
        "    self.af.opt[\"weights\"][\"mpnn_ent\"] = 0.0\n",
        "\n",
        "  def run(self, seq, atom_positions, atom_mask, residue_index, asym_id, key):\n",
        "    # INPUTS\n",
        "    I = {\"X\":           atom_positions[:,self.atom_idx],\n",
        "         \"mask\":        atom_mask[:,1],\n",
        "         \"residue_idx\": residue_index,\n",
        "         \"chain_idx\":   asym_id,\n",
        "         \"key\":         key}\n",
        "    if self.conditional:\n",
        "      I[\"S\"] = seq[0]\n",
        "      I[\"ar_mask\"] = 1 - np.eye(I[\"S\"].shape[0])\n",
        "      if self.af.protocol == \"binder\":\n",
        "        L = self.af._target_len\n",
        "        I[\"ar_mask\"][L:,L:] = 0\n",
        "\n",
        "    # RUN   \n",
        "    logits = self.mpnn._score(**I)[\"logits\"]\n",
        "\n",
        "    # OUTPUTS\n",
        "    if self.af.protocol == \"binder\":\n",
        "      L = self.af._target_len\n",
        "      logits = logits[L:]\n",
        "    else:\n",
        "      L = self.af._params[\"seq\"].shape[1]\n",
        "      logits = logits[:L]\n",
        "    return logits\n",
        "\n",
        "  def precompute(self):\n",
        "    inputs = self.af._inputs\n",
        "    logits = self.run(inputs[\"batch\"][\"aatype\"],\n",
        "                      inputs[\"batch\"][\"all_atom_positions\"],\n",
        "                      inputs[\"batch\"][\"all_atom_mask\"],\n",
        "                      inputs[\"residue_index\"],\n",
        "                      inputs[\"asym_id\"],\n",
        "                      self.af.key())\n",
        "    self.af.opt[\"mpnn\"] = self.logits = logits\n",
        "  \n",
        "  def _design_callback(self, af_model):\n",
        "    self.logits = af_model.aux[\"mpnn\"]\n",
        "    af_model._inputs[\"bias\"] = (1-self.replace) * af_model._inputs[\"bias\"] + self.replace * af_model.aux[\"mpnn\"][:,:20]\n",
        "\n",
        "  def _loss_callback(self, inputs, aux, opt, seq, key):\n",
        "    if \"mpnn\" in opt:\n",
        "      logits = opt[\"mpnn\"]\n",
        "    else:\n",
        "      logits = self.run(seq[\"hard\"],\n",
        "                        aux[\"atom_positions\"],\n",
        "                        aux[\"atom_mask\"],\n",
        "                        inputs[\"residue_index\"],\n",
        "                        inputs[\"asym_id\"],\n",
        "                        key)\n",
        "      if not self.backprop:\n",
        "        logits = jax.lax.stop_gradient(logits)\n",
        "        \n",
        "      aux[\"mpnn\"] = logits\n",
        "\n",
        "    # define loss function\n",
        "    log_q = jax.nn.log_softmax(logits)[:,:20]\n",
        "    q = jax.nn.softmax(logits[:,:20])\n",
        "    p = inputs[\"seq\"][\"soft\"]\n",
        "    losses = {}\n",
        "    losses[\"mpnn_ent\"] = -(q * log_q).sum(-1).mean()\n",
        "    losses[\"mpnn_loss\"] = -(p * log_q).sum(-1).mean()\n",
        "    return losses"
      ]
    },
    {
      "cell_type": "markdown",
      "metadata": {
        "id": "UUfKrOzT0gOS"
      },
      "source": [
        "# fixed backbone design (fixbb)\n",
        "For a given protein backbone, generate/design a new sequence that AlphaFold thinks folds into that conformation. "
      ]
    },
    {
      "cell_type": "code",
      "execution_count": null,
      "metadata": {
        "id": "qLd1DsnKzxBJ"
      },
      "outputs": [],
      "source": [
        "clear_mem()\n",
        "af_model = mk_af_model(protocol=\"fixbb\")\n",
        "af_model.prep_inputs(pdb_filename=get_pdb(\"1TEN\"), chain=\"A\")\n",
        "mpnn_model = setup_mpnn(af_model, precompute=True)\n",
        "\n",
        "print(\"length\",  af_model._len)\n",
        "print(\"weights\", af_model.opt[\"weights\"])"
      ]
    },
    {
      "cell_type": "code",
      "source": [
        "# precompute unconditional probabilities from mpnn\n",
        "print(\"max_mpnn_loss\",-log_softmax(mpnn_model.logits,-1).max(-1).mean())\n",
        "plt.imshow(softmax(mpnn_model.logits,-1).T,vmin=0,vmax=1)"
      ],
      "metadata": {
        "id": "dm4AJIrU2VGD"
      },
      "execution_count": null,
      "outputs": []
    },
    {
      "cell_type": "code",
      "source": [
        "af_model.restart()\n",
        "af_model.set_seq(bias=mpnn_model.logits[:,:20])\n",
        "af_model.set_weights(mpnn_loss=0.1)\n",
        "af_model.design_3stage(0,200,10)"
      ],
      "metadata": {
        "id": "u0AwskJ84NGx"
      },
      "execution_count": null,
      "outputs": []
    },
    {
      "cell_type": "code",
      "source": [
        "af_model.plot_traj()"
      ],
      "metadata": {
        "id": "8FB1v7dn1LL6"
      },
      "execution_count": null,
      "outputs": []
    },
    {
      "cell_type": "code",
      "execution_count": null,
      "metadata": {
        "id": "YEApO8YzBoS0"
      },
      "outputs": [],
      "source": [
        "af_model.save_pdb(f\"{af_model.protocol}.pdb\")\n",
        "af_model.plot_pdb()"
      ]
    },
    {
      "cell_type": "code",
      "execution_count": null,
      "metadata": {
        "id": "cW1KQiHKJpfp"
      },
      "outputs": [],
      "source": [
        "HTML(af_model.animate())"
      ]
    },
    {
      "cell_type": "code",
      "source": [
        "af_model.get_seqs()"
      ],
      "metadata": {
        "id": "YDrChASGVUUx"
      },
      "execution_count": null,
      "outputs": []
    },
    {
      "cell_type": "markdown",
      "source": [
        "# hallucination\n",
        "For a given length, generate/hallucinate a protein sequence that AlphaFold thinks folds into a well structured protein (high plddt, low pae, many contacts)."
      ],
      "metadata": {
        "id": "qLwS2s_xcjRI"
      }
    },
    {
      "cell_type": "code",
      "source": [
        "def rg_loss(inputs, outputs):\n",
        "  positions = outputs[\"structure_module\"][\"final_atom_positions\"]\n",
        "  ca = positions[:,residue_constants.atom_order[\"CA\"]]\n",
        "  center = ca.mean(0)\n",
        "  rg = jnp.sqrt(jnp.square(ca - center).sum(-1).mean() + 1e-8)\n",
        "  rg_th = 2.38 * ca.shape[0] ** 0.365\n",
        "  rg = jax.nn.elu(rg - rg_th)\n",
        "  return {\"rg\":rg}"
      ],
      "metadata": {
        "id": "pGVwRYqHqdb5"
      },
      "execution_count": null,
      "outputs": []
    },
    {
      "cell_type": "code",
      "execution_count": null,
      "metadata": {
        "id": "sZnYfCbfEvol"
      },
      "outputs": [],
      "source": [
        "clear_mem()\n",
        "af_model = mk_af_model(protocol=\"hallucination\",\n",
        "                       loss_callback=rg_loss) # add custom Radius of Gyration loss\n",
        "af_model.prep_inputs(length=100)\n",
        "af_model.opt[\"weights\"][\"rg_loss\"] = 0.1\n",
        "mpnn_model = setup_mpnn(af_model,\n",
        "                        precompute=False) # since we do not know what structure we want, we cannot precompute the mpnn logits\n",
        "mpnn_model.replace = 0.01 # rate at which to copy output mpnn logits to alphafold bias\n",
        "\n",
        "print(\"length\",af_model._len)\n",
        "print(\"weights\",af_model.opt[\"weights\"])"
      ]
    },
    {
      "cell_type": "code",
      "source": [
        "# pre-design with gumbel initialization and softmax activation\n",
        "af_model.restart()\n",
        "af_model.set_seq(mode=\"gumbel\")\n",
        "af_model.set_weights(mpnn_ent=0.1,   # maximize confidence of mpnn output\n",
        "                     mpnn_loss=0.01, # minimize difference between mpnn output and input sequence\n",
        "                     helix=-0.1,     # encourage non-helical content\n",
        "                     ) \n",
        "af_model.design_soft(100, verbose=10)"
      ],
      "metadata": {
        "id": "Snim_g3ydgBX"
      },
      "execution_count": null,
      "outputs": []
    },
    {
      "cell_type": "code",
      "source": [
        "# lets see what the PDB looks like (if you don't like, rerun the cell before)\n",
        "af_model.plot_pdb()"
      ],
      "metadata": {
        "id": "6iJjUbCjmiur"
      },
      "execution_count": null,
      "outputs": []
    },
    {
      "cell_type": "code",
      "source": [
        "# refinement round!\n",
        "af_model.set_seq(seq=af_model.aux[\"seq\"][\"pseudo\"])\n",
        "af_model.set_weights(mpnn_ent=0.1, mpnn_loss=0.1, helix=0, pae=0.1) # increase mpnn weights\n",
        "af_model.design_3stage(100, 100, 10)"
      ],
      "metadata": {
        "id": "iKOcI_lxecYb"
      },
      "execution_count": null,
      "outputs": []
    },
    {
      "cell_type": "code",
      "source": [
        "af_model.save_pdb(f\"{af_model.protocol}.pdb\")\n",
        "af_model.plot_pdb(color=\"pLDDT\")"
      ],
      "metadata": {
        "id": "qe9c1W6ydgD-"
      },
      "execution_count": null,
      "outputs": []
    },
    {
      "cell_type": "code",
      "execution_count": null,
      "metadata": {
        "id": "L2E9Tn2Acchj"
      },
      "outputs": [],
      "source": [
        "HTML(af_model.animate())"
      ]
    },
    {
      "cell_type": "code",
      "execution_count": null,
      "metadata": {
        "id": "YSKWYu0_GlUH"
      },
      "outputs": [],
      "source": [
        "af_model.get_seqs()"
      ]
    },
    {
      "cell_type": "markdown",
      "source": [
        "# binder hallucination\n",
        "For a given protein target and protein binder length, generate/hallucinate a protein binder sequence AlphaFold thinks will bind to the target structure.\n",
        "To do this, we minimize PAE and maximize number of contacts at the interface and within the binder, and we maximize pLDDT of the binder."
      ],
      "metadata": {
        "id": "NmST5DdwK6FD"
      }
    },
    {
      "cell_type": "code",
      "source": [
        "clear_mem()\n",
        "mpnn_model = mk_mpnn_model()\n",
        "af_model = mk_af_model(protocol=\"binder\")\n",
        "af_model.prep_inputs(pdb_filename=get_pdb(\"4MZK\"), chain=\"A\", binder_len=18)\n",
        "setup_mpnn(af_model,\n",
        "           precompute=False,\n",
        "           conditional=True) # conditioned both on the structure and sequence of target\n",
        "\n",
        "print(\"target_length\",af_model._target_len)\n",
        "print(\"binder_length\",af_model._binder_len)\n",
        "print(\"weights\",af_model.opt[\"weights\"])"
      ],
      "metadata": {
        "id": "eGm_9CGTK-HJ"
      },
      "execution_count": null,
      "outputs": []
    },
    {
      "cell_type": "code",
      "source": [
        "af_model.restart()\n",
        "af_model.set_weights(mpnn_loss=0.01, mpnn_ent=0.01)\n",
        "af_model.design_3stage(100,0,0)\n",
        "af_model.set_weights(mpnn_loss=0.1, mpnn_ent=0.1)\n",
        "af_model.design_3stage(0,100,10)"
      ],
      "metadata": {
        "id": "V6CGldG6Ulhz"
      },
      "execution_count": null,
      "outputs": []
    },
    {
      "cell_type": "code",
      "source": [
        "af_model.save_pdb(f\"{af_model.protocol}.pdb\")\n",
        "af_model.plot_pdb()"
      ],
      "metadata": {
        "id": "HqjOhWSXz1Bh"
      },
      "execution_count": null,
      "outputs": []
    },
    {
      "cell_type": "code",
      "source": [
        "HTML(af_model.animate())"
      ],
      "metadata": {
        "id": "3_12tl5V2bz2"
      },
      "execution_count": null,
      "outputs": []
    },
    {
      "cell_type": "code",
      "source": [
        "af_model.get_seqs()"
      ],
      "metadata": {
        "id": "uR1KAl1h2dKk"
      },
      "execution_count": null,
      "outputs": []
    },
    {
      "cell_type": "code",
      "source": [],
      "metadata": {
        "id": "DPlbTAmxyntf"
      },
      "execution_count": null,
      "outputs": []
    }
  ],
  "metadata": {
    "accelerator": "GPU",
    "colab": {
      "collapsed_sections": [
        "UUfKrOzT0gOS",
        "qLwS2s_xcjRI"
      ],
      "provenance": [],
      "include_colab_link": true
    },
    "kernelspec": {
      "display_name": "Python 3",
      "name": "python3"
    },
    "language_info": {
      "name": "python"
    }
  },
  "nbformat": 4,
  "nbformat_minor": 0
}
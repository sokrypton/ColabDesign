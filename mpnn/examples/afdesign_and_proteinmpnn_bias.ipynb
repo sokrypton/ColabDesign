{
  "cells": [
    {
      "cell_type": "markdown",
      "metadata": {
        "id": "view-in-github",
        "colab_type": "text"
      },
      "source": [
        "<a href=\"https://colab.research.google.com/github/sokrypton/ColabDesign/blob/v1.1.1/mpnn/examples/afdesign_and_proteinmpnn_bias.ipynb\" target=\"_parent\"><img src=\"https://colab.research.google.com/assets/colab-badge.svg\" alt=\"Open In Colab\"/></a>"
      ]
    },
    {
      "cell_type": "markdown",
      "source": [
        "#ProteinMPNN + AFDesign\n",
        "\n",
        "Design protein sequence based on a given structure, using backprop through AlphaFold guided by ProteinMPNN output. Notebook from [@sim0nsays](https://github.com/sim0nsays)!"
      ],
      "metadata": {
        "id": "CDsO9AFOLM54"
      }
    },
    {
      "cell_type": "code",
      "execution_count": null,
      "metadata": {
        "id": "8HhQ_JjP8-_T",
        "cellView": "form"
      },
      "outputs": [],
      "source": [
        "#@title install\n",
        "%%bash\n",
        "if [ ! -d params ]; then\n",
        "  # get code\n",
        "  pip -q install git+https://github.com/sokrypton/ColabDesign.git@v1.1.1\n",
        "  # for debugging\n",
        "  ln -s /usr/local/lib/python3.*/dist-packages/colabdesign colabdesign\n",
        "  # download params\n",
        "  mkdir params\n",
        "  curl -fsSL https://storage.googleapis.com/alphafold/alphafold_params_2022-12-06.tar | tar x -C params\n",
        "fi"
      ]
    },
    {
      "cell_type": "code",
      "execution_count": null,
      "metadata": {
        "id": "H5ZzVJhG7169",
        "cellView": "form"
      },
      "outputs": [],
      "source": [
        "#@title Setup\n",
        "\n",
        "#@title import libraries\n",
        "import warnings\n",
        "warnings.simplefilter(action='ignore', category=FutureWarning)\n",
        "import os\n",
        "os.environ['XLA_PYTHON_CLIENT_PREALLOCATE'] = 'false'\n",
        "\n",
        "from colabdesign.af import mk_af_model, clear_mem\n",
        "from colabdesign.af.alphafold.common import residue_constants\n",
        "from colabdesign.mpnn import mk_mpnn_model\n",
        "from colabdesign.shared.utils import copy_dict\n",
        "from IPython.display import HTML\n",
        "from google.colab import files\n",
        "\n",
        "import numpy as np\n",
        "from scipy.special import softmax\n",
        "import matplotlib.pyplot as plt\n",
        "import jax\n",
        "import jax.numpy as jnp\n",
        "\n",
        "def get_pdb(pdb_code=\"\"):\n",
        "  if pdb_code is None or pdb_code == \"\":\n",
        "    upload_dict = files.upload()\n",
        "    pdb_string = upload_dict[list(upload_dict.keys())[0]]\n",
        "    with open(\"tmp.pdb\",\"wb\") as out: out.write(pdb_string)\n",
        "    return \"tmp.pdb\"\n",
        "  else:\n",
        "    os.system(f\"wget -qnc https://files.rcsb.org/view/{pdb_code}.pdb\")\n",
        "    return f\"{pdb_code}.pdb\"\n",
        "\n",
        "\n",
        "#@markdown ### Input Options\n",
        "pdb='1TEN' #@param {type:\"string\"}\n",
        "pdb_path = get_pdb(pdb)\n",
        "\n",
        "#@markdown - pdb code (leave blank to get an upload prompt)\n",
        "\n",
        "designed_chain = \"A\" #@param {type:\"string\"}\n",
        "fixed_chains = \"\" #@param {type:\"string\"}\n",
        "\n",
        "#@markdown - specified which chain(s) to design and which chain(s) to keep fixed. \n",
        "#@markdown   Use comma:`A,B` to specifiy more than one chain\n",
        "\n",
        "#@markdown ### Design Options\n",
        "use_templates = False #@param {type:\"boolean\"}\n",
        "#@markdown - provides structure templates to AFDesign, helpful to maintain multi-chain contacts\n",
        "\n",
        "#@markdown\n",
        "mpnn_bias_temp = 4.0 #@param {type:\"number\"}\n",
        "#@markdown - specifies the temperature for applying bias towards MPNN prediction.\n",
        "#@markdown   *low (<= 0.1)* - explore less, stick to MPNN probs, *high(>=4)* - explore more to get better AF metric\n",
        "\n",
        "\n",
        "def prepare_af_bias_start_seq(unconditional_probs, af_model, mpnn_bias_temp):\n",
        "    max_seq = np.argmax(unconditional_probs, axis=1)\n",
        "\n",
        "    designed_chain_len = af_model._lengths[0]\n",
        "    bias = np.zeros((len(af_model._wt_aatype), 20), dtype=np.float32)\n",
        "    bias[np.arange(len(bias)), af_model._wt_aatype] = 1e8\n",
        "    bias[:designed_chain_len] = unconditional_probs[:designed_chain_len] / mpnn_bias_temp\n",
        "    return bias, max_seq\n",
        "\n",
        "\n",
        "def af2mpnn(self):\n",
        "  atom_idx = tuple(residue_constants.atom_order[k] for k in [\"N\",\"CA\",\"C\",\"O\"])\n",
        "  X = self._inputs[\"batch\"][\"all_atom_positions\"][:,atom_idx]\n",
        "  mask = self._inputs[\"batch\"][\"all_atom_mask\"][:,1]\n",
        "  inputs ={\"X\":X,\n",
        "           \"mask\":mask,\n",
        "           \"residue_idx\":self._inputs[\"residue_index\"],\n",
        "           \"chain_idx\":self._inputs[\"asym_id\"],\n",
        "           \"key\":self.key()}  \n",
        "  return inputs"
      ]
    },
    {
      "cell_type": "code",
      "source": [
        "clear_mem()\n",
        "mpnn_model = mk_mpnn_model()\n",
        "\n",
        "best_metric = \"dgram_cce\" if use_templates else \"rmsd\"\n",
        "af_design_model = mk_af_model(protocol=\"fixbb\", best_metric=best_metric, use_templates=use_templates)\n",
        "\n",
        "chain_list = [designed_chain]\n",
        "if fixed_chains:\n",
        "    chain_list += fixed_chains.split(\",\")\n",
        "af_design_model.prep_inputs(pdb_filename=pdb_path, chain=\",\".join(chain_list))"
      ],
      "metadata": {
        "id": "4ccTXntfdq4s"
      },
      "execution_count": null,
      "outputs": []
    },
    {
      "cell_type": "code",
      "source": [
        "mpnn_model.get_af_inputs(af_design_model)\n",
        "seq_logits = mpnn_model.get_unconditional_logits()[:,:20]\n",
        "\n",
        "bias, start_seq = prepare_af_bias_start_seq(seq_logits, af_design_model, mpnn_bias_temp)\n",
        "af_design_model.restart(seed=0)\n",
        "af_design_model.set_seq(seq=start_seq, bias=bias)\n",
        "if use_templates:\n",
        "    af_design_model.set_opt(\"template\",dropout=0.15)\n",
        "af_design_model.set_weights(pae=0.01,plddt=0.01)\n",
        "af_design_model.design_3stage()\n",
        "\n",
        "best = af_design_model._tmp['best']\n",
        "designed_chain_len = af_design_model._lengths[0]\n",
        "seqid = np.mean(best['aux']['aatype'][:designed_chain_len] == af_design_model._wt_aatype[:designed_chain_len])\n",
        "print(f\"{best_metric}: {best['metric']:.3f}, designed chain seqid: {seqid:.3f}\")"
      ],
      "metadata": {
        "id": "XfoohG0qSRwn"
      },
      "execution_count": null,
      "outputs": []
    },
    {
      "cell_type": "code",
      "execution_count": null,
      "metadata": {
        "id": "8FB1v7dn1LL6"
      },
      "outputs": [],
      "source": [
        "af_design_model.plot_traj()"
      ]
    },
    {
      "cell_type": "code",
      "execution_count": null,
      "metadata": {
        "id": "YEApO8YzBoS0"
      },
      "outputs": [],
      "source": [
        "af_design_model.save_pdb(f\"{af_design_model.protocol}.pdb\")\n",
        "af_design_model.plot_pdb()"
      ]
    },
    {
      "cell_type": "code",
      "execution_count": null,
      "metadata": {
        "id": "cW1KQiHKJpfp"
      },
      "outputs": [],
      "source": [
        "HTML(af_design_model.animate())"
      ]
    }
  ],
  "metadata": {
    "accelerator": "GPU",
    "colab": {
      "collapsed_sections": [],
      "provenance": [],
      "include_colab_link": true
    },
    "kernelspec": {
      "display_name": "Python 3",
      "name": "python3"
    },
    "language_info": {
      "name": "python"
    }
  },
  "nbformat": 4,
  "nbformat_minor": 0
}
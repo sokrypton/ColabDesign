{
  "nbformat": 4,
  "nbformat_minor": 0,
  "metadata": {
    "colab": {
      "provenance": [],
      "collapsed_sections": [],
      "include_colab_link": true
    },
    "kernelspec": {
      "name": "python3",
      "display_name": "Python 3"
    },
    "language_info": {
      "name": "python"
    },
    "accelerator": "GPU"
  },
  "cells": [
    {
      "cell_type": "markdown",
      "metadata": {
        "id": "view-in-github",
        "colab_type": "text"
      },
      "source": [
        "<a href=\"https://colab.research.google.com/github/sokrypton/ColabDesign/blob/v1.1.0/mpnn/examples/proteinmpnn_in_jax.ipynb\" target=\"_parent\"><img src=\"https://colab.research.google.com/assets/colab-badge.svg\" alt=\"Open In Colab\"/></a>"
      ]
    },
    {
      "cell_type": "markdown",
      "source": [
        "#ProteinMPNN in Jax!"
      ],
      "metadata": {
        "id": "IVmFMidn965N"
      }
    },
    {
      "cell_type": "code",
      "source": [
        "#@title import libraries\n",
        "import warnings, os\n",
        "warnings.simplefilter(action='ignore', category=FutureWarning)\n",
        "try:\n",
        "  import colabdesign\n",
        "except:\n",
        "  os.system(\"pip -q install git+https://github.com/sokrypton/ColabDesign.git@v1.1.0\")\n",
        "  os.system(\"ln -s /usr/local/lib/python3.7/dist-packages/colabdesign colabdesign\")\n",
        "\n",
        "from colabdesign.mpnn import mk_mpnn_model, clear_mem\n",
        "from IPython.display import HTML\n",
        "\n",
        "import numpy as np\n",
        "import matplotlib.pyplot as plt\n",
        "import jax\n",
        "import jax.numpy as jnp\n",
        "\n",
        "from google.colab import files\n",
        "\n",
        "def get_pdb(pdb_code=\"\"):\n",
        "  if pdb_code is None or pdb_code == \"\":\n",
        "    upload_dict = files.upload()\n",
        "    pdb_string = upload_dict[list(upload_dict.keys())[0]]\n",
        "    with open(\"tmp.pdb\",\"wb\") as out: out.write(pdb_string)\n",
        "    return \"tmp.pdb\"\n",
        "  else:\n",
        "    os.system(f\"wget -qnc https://files.rcsb.org/view/{pdb_code}.pdb\")\n",
        "    return f\"{pdb_code}.pdb\""
      ],
      "metadata": {
        "cellView": "form",
        "id": "ZmysbfjRvZkv"
      },
      "execution_count": null,
      "outputs": []
    },
    {
      "cell_type": "code",
      "source": [
        "import re\n",
        "#@markdown ### ProteinMPNN options\n",
        "model_name = \"v_48_020\" #@param [\"v_48_002\", \"v_48_010\", \"v_48_020\", \"v_48_030\"]\n",
        "#@markdown #### Input Options\n",
        "pdb='6MRR' #@param {type:\"string\"}\n",
        "pdb_path = get_pdb(pdb)\n",
        "#@markdown - leave blank to get an upload prompt\n",
        "chains = \"A\" #@param {type:\"string\"}\n",
        "chains = re.sub(\"[^A-Za-z]+\",\",\", chains)\n",
        "#@markdown #### Design constraints\n",
        "fix_pos = \"\" #@param {type:\"string\"}\n",
        "if fix_pos == \"\": fix_pos = None\n",
        "#@markdown - specify which positions to keep fixed in the sequence (example: `1,2-10`)\n",
        "#@markdown - you can also specify multichain constrains (example: `A1-10,B1-20`)\n",
        "rm_aa = \"\" #@param {type:\"string\"}\n",
        "rm_aa = \",\".join(list(re.sub(\"[^A-Z]+\",\"\",rm_aa.upper())))\n",
        "if rm_aa == \"\": rm_aa = None\n",
        "#@markdown - specify amino acid(s) to exclude (example: `C,A,T`)\n",
        "\n",
        "clear_mem()\n",
        "mpnn_model = mk_mpnn_model(model_name)\n",
        "mpnn_model.prep_inputs(pdb_filename=pdb_path,\n",
        "                       chain=chains,\n",
        "                       fix_pos=fix_pos,\n",
        "                       rm_aa=rm_aa)\n",
        "print(\"length\", mpnn_model._len)"
      ],
      "metadata": {
        "cellView": "form",
        "id": "GjdIxO4j-Hnn"
      },
      "execution_count": null,
      "outputs": []
    },
    {
      "cell_type": "code",
      "source": [
        "%%time\n",
        "from scipy.special import log_softmax\n",
        "#@markdown ### Design Options\n",
        "num_seqs = 32 #@param [\"0\",\"1\", \"2\", \"4\", \"8\", \"16\", \"32\", \"64\", \"128\", \"256\"] {type:\"raw\"}\n",
        "sampling_temp = 0.1 #@param [\"0.0001\", \"0.1\", \"0.15\", \"0.2\", \"0.25\", \"0.3\", \"0.5\", \"1.0\"] {type:\"raw\"}\n",
        "#@markdown - Sampling temperature for amino acids, T=0.0 means taking argmax, T>>1.0 means sample randomly.\n",
        "\n",
        "for n in range(num_seqs):\n",
        "  outputs = mpnn_model.sample(temperature=sampling_temp)\n",
        "  mask = mpnn_model._inputs[\"mask\"].copy()\n",
        "  if \"fix_pos\" in mpnn_model._inputs:\n",
        "    mask[mpnn_model._inputs[\"fix_pos\"]] = 0\n",
        "\n",
        "  seq = outputs[\"S\"].argmax(-1)\n",
        "  seqid = seq == mpnn_model._inputs[\"S\"]\n",
        "  seqid = (seqid * mask).sum() / mask.sum()\n",
        "  \n",
        "  print(f'>score:{outputs[\"score\"]:.3f}_seqid:{seqid:.3f}\\n{outputs[\"seq\"]}')"
      ],
      "metadata": {
        "cellView": "form",
        "id": "NC-B2nld-taW"
      },
      "execution_count": null,
      "outputs": []
    },
    {
      "cell_type": "code",
      "source": [
        "#@markdown ### amino acid probabilties (unconditional)\n",
        "import plotly.express as px\n",
        "from scipy.special import softmax\n",
        "from colabdesign.mpnn.model import residue_constants\n",
        "pssm = softmax(mpnn_model.get_unconditional_logits(),-1)\n",
        "fig = px.imshow(np.array(pssm).T,\n",
        "               labels=dict(x=\"positions\", y=\"amino acids\", color=\"probability\"),\n",
        "               y=residue_constants.restypes + [\"X\"],\n",
        "               zmin=0,\n",
        "               zmax=1,\n",
        "               template=\"simple_white\",\n",
        "              )\n",
        "fig.update_xaxes(side=\"top\")\n",
        "fig.show()"
      ],
      "metadata": {
        "cellView": "form",
        "id": "8LtcHb-haU6t"
      },
      "execution_count": null,
      "outputs": []
    }
  ]
}
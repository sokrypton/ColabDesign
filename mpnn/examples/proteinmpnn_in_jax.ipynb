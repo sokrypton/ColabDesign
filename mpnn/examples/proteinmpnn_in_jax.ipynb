{
  "nbformat": 4,
  "nbformat_minor": 0,
  "metadata": {
    "colab": {
      "provenance": [],
      "collapsed_sections": [],
      "include_colab_link": true
    },
    "kernelspec": {
      "name": "python3",
      "display_name": "Python 3"
    },
    "language_info": {
      "name": "python"
    },
    "accelerator": "GPU"
  },
  "cells": [
    {
      "cell_type": "markdown",
      "metadata": {
        "id": "view-in-github",
        "colab_type": "text"
      },
      "source": [
        "<a href=\"https://colab.research.google.com/github/sokrypton/ColabDesign/blob/v1.1.0/mpnn/examples/proteinmpnn_in_jax.ipynb\" target=\"_parent\"><img src=\"https://colab.research.google.com/assets/colab-badge.svg\" alt=\"Open In Colab\"/></a>"
      ]
    },
    {
      "cell_type": "markdown",
      "source": [
        "#ProteinMPNN in Jax!\n",
        "\n",
        "---\n",
        "\n",
        "fixbb monomer design:\n",
        " - `pdb=\"6MRR\" chains=\"A\"`\n",
        "\n",
        "fixbb homooligomer design:\n",
        " - `pdb=\"5XZK\" chains=\"A,B,C\" homooligomer=True`\n",
        "\n",
        "binder design:\n",
        " - `pdb=\"1SSC\" chains=\"A,B\" fix_pos=\"A\"`\n",
        "\n",
        "---\n"
      ],
      "metadata": {
        "id": "IVmFMidn965N"
      }
    },
    {
      "cell_type": "code",
      "source": [
        "#@title Install colabdesign\n",
        "import os\n",
        "try:\n",
        "  import colabdesign\n",
        "except:\n",
        "  os.system(\"pip -q install git+https://github.com/sokrypton/ColabDesign.git@v1.1.0\")\n",
        "  os.system(\"ln -s /usr/local/lib/python3.7/dist-packages/colabdesign colabdesign\")\n",
        "\n",
        "from colabdesign.mpnn import mk_mpnn_model, clear_mem\n",
        "\n",
        "import jax\n",
        "import jax.numpy as jnp\n",
        "import numpy as np\n",
        "import matplotlib.pyplot as plt\n",
        "from IPython.display import HTML\n",
        "from google.colab import files\n",
        "\n",
        "def get_pdb(pdb_code=\"\"):\n",
        "  if pdb_code is None or pdb_code == \"\":\n",
        "    upload_dict = files.upload()\n",
        "    pdb_string = upload_dict[list(upload_dict.keys())[0]]\n",
        "    with open(\"tmp.pdb\",\"wb\") as out: out.write(pdb_string)\n",
        "    return \"tmp.pdb\"\n",
        "  else:\n",
        "    os.system(f\"wget -qnc https://files.rcsb.org/view/{pdb_code}.pdb\")\n",
        "    return f\"{pdb_code}.pdb\""
      ],
      "metadata": {
        "cellView": "form",
        "id": "tnwjNa-IWMSA"
      },
      "execution_count": null,
      "outputs": []
    },
    {
      "cell_type": "code",
      "source": [
        "%%time\n",
        "#@title Run ProteinMPNN to design new sequences for given backbone\n",
        "\n",
        "import warnings, os, re\n",
        "warnings.simplefilter(action='ignore', category=FutureWarning)\n",
        "\n",
        "# USER OPTIONS\n",
        "#@markdown #### ProteinMPNN options\n",
        "model_name = \"v_48_020\" #@param [\"v_48_002\", \"v_48_010\", \"v_48_020\", \"v_48_030\"]\n",
        "#@markdown #### Input Options\n",
        "pdb='6MRR' #@param {type:\"string\"}\n",
        "#@markdown - leave blank to get an upload prompt\n",
        "chains = \"A\" #@param {type:\"string\"}\n",
        "homooligomer = False #@param {type:\"boolean\"}\n",
        "#@markdown #### Design constraints\n",
        "fix_pos = \"\" #@param {type:\"string\"}\n",
        "#@markdown - specify which positions to keep fixed in the sequence (example: `1,2-10`)\n",
        "#@markdown - you can also specify chain specific constraints (example: `A1-10,B1-20`)\n",
        "#@markdown - you can also specify to fix entire chain(s) (example: `A`)\n",
        "inverse = False #@param {type:\"boolean\"}\n",
        "#@markdown - inverse the `fix_pos` selection (define position to \"free\" [or design] instead of \"fix\")\n",
        "rm_aa = \"\" #@param {type:\"string\"}\n",
        "#@markdown - specify amino acid(s) to exclude (example: `C,A,T`)\n",
        "\n",
        "#@markdown #### Design Options\n",
        "num_seqs = 32 #@param [\"32\", \"64\", \"128\", \"256\", \"512\", \"1024\"] {type:\"raw\"}\n",
        "sampling_temp = 0.1 #@param [\"0.0001\", \"0.1\", \"0.15\", \"0.2\", \"0.25\", \"0.3\", \"0.5\", \"1.0\"] {type:\"raw\"}\n",
        "#@markdown - Sampling temperature for amino acids, T=0.0 means taking argmax, T>>1.0 means sample randomly.\n",
        "\n",
        "#@markdown Note: designed sequences are saved to `design.fasta`\n",
        "\n",
        "# cleaning user options\n",
        "chains = re.sub(\"[^A-Za-z]+\",\",\", chains)\n",
        "if fix_pos == \"\": fix_pos = None\n",
        "rm_aa = \",\".join(list(re.sub(\"[^A-Z]+\",\"\",rm_aa.upper())))\n",
        "if rm_aa == \"\": rm_aa = None\n",
        "\n",
        "pdb_path = get_pdb(pdb)\n",
        "\n",
        "mpnn_args = [pdb_path, chains, homooligomer, fix_pos, inverse, rm_aa]\n",
        "if \"mpnn_args_current\" not in dir() or mpnn_args != mpnn_args_current:\n",
        "  mpnn_model = mk_mpnn_model(model_name)\n",
        "  mpnn_model.prep_inputs(pdb_filename=pdb_path,\n",
        "                        chain=chains, homooligomer=homooligomer,\n",
        "                        fix_pos=fix_pos, inverse=inverse,\n",
        "                        rm_aa=rm_aa, verbose=True)\n",
        "  mpnn_args_current = [x for x in mpnn_args]\n",
        "\n",
        "out = mpnn_model.sample(num=num_seqs//32, batch=32,\n",
        "                        temperature=sampling_temp,\n",
        "                        rescore=homooligomer)\n",
        "\n",
        "with open(\"design.fasta\",\"w\") as fasta:\n",
        "  for n in range(num_seqs):\n",
        "    line = f'>score:{out[\"score\"][n]:.3f}_seqid:{out[\"seqid\"][n]:.3f}\\n{out[\"seq\"][n]}'\n",
        "    fasta.write(line+\"\\n\")\n",
        "    print(line)"
      ],
      "metadata": {
        "cellView": "form",
        "id": "GjdIxO4j-Hnn"
      },
      "execution_count": null,
      "outputs": []
    },
    {
      "cell_type": "code",
      "source": [
        "#@title ### Get amino acid probabilties from ProteinMPNN (optional)\n",
        "mode = \"unconditional\" #@param [\"unconditional\", \"conditional\", \"conditional_fix_pos\"]\n",
        "#@markdown - `unconditional` - P(sequence | structure) \n",
        "#@markdown - `conditional` - P(sequence | structure, sequence)\n",
        "#@markdown - `conditional_fix_pos` - P(sequence[not_fixed] | structure, sequence[fix_pos])\n",
        "show = \"all\" \n",
        "import plotly.express as px\n",
        "from scipy.special import softmax\n",
        "from colabdesign.mpnn.model import residue_constants\n",
        "L = sum(mpnn_model._lengths)\n",
        "fix_pos = mpnn_model._inputs.get(\"fix_pos\",[])\n",
        "free_pos = np.delete(np.arange(L),fix_pos)\n",
        "\n",
        "if mode == \"conditional\":\n",
        "  ar_mask = 1-np.eye(L)\n",
        "  logits = mpnn_model.score(ar_mask=ar_mask)[\"logits\"]\n",
        "  pdb_labels = None\n",
        "if mode == \"conditional_fix_pos\":\n",
        "  assert \"fix_pos\" in mpnn_model._inputs, \"no positions fixed\"\n",
        "  ar_mask = 1-np.eye(L)\n",
        "  p = np.delete(np.arange(L),mpnn_model._inputs[\"fix_pos\"])\n",
        "  ar_mask[free_pos[:,None],free_pos[None,:]] = 0\n",
        "  logits = mpnn_model.score(ar_mask=ar_mask)[\"logits\"]\n",
        "  logits = logits[free_pos]\n",
        "  pdb_labels = np.array([f\"{i}_{c}\" for c,i in zip(mpnn_model.pdb[\"idx\"][\"chain\"], mpnn_model.pdb[\"idx\"][\"residue\"])])\n",
        "  pdb_labels = pdb_labels[free_pos]\n",
        "else:\n",
        "  ar_mask = np.zeros((L,L))\n",
        "  logits = mpnn_model.score(ar_mask=ar_mask)[\"logits\"]\n",
        "  pdb_labels = None\n",
        "\n",
        "pssm = softmax(logits,-1)\n",
        "\n",
        "fig = px.imshow(np.array(pssm).T,\n",
        "               labels=dict(x=\"positions\", y=\"amino acids\", color=\"probability\"),\n",
        "               y=residue_constants.restypes + [\"X\"],\n",
        "               x=pdb_labels,\n",
        "               zmin=0,\n",
        "               zmax=1,\n",
        "               template=\"simple_white\",\n",
        "              )\n",
        "fig.update_xaxes(side=\"top\")\n",
        "fig.show()"
      ],
      "metadata": {
        "cellView": "form",
        "id": "8LtcHb-haU6t"
      },
      "execution_count": null,
      "outputs": []
    },
    {
      "cell_type": "code",
      "source": [
        "#@title Run AlphaFold Prediction on ProteinMPNN sequences (optional)\n",
        "#@markdown ###AlphaFold Options\n",
        "num_models = 1 #@param [\"1\",\"2\",\"3\",\"4\",\"5\"] {type:\"raw\"}\n",
        "num_recycles = 1 #@param [\"0\",\"1\",\"2\",\"3\"] {type:\"raw\"}\n",
        "use_multimer = False #@param {type:\"boolean\"}\n",
        "#@markdown ###AF2Rank Options (WIP)\n",
        "use_AF2Rank = False #@param {type:\"boolean\"}\n",
        "#@markdown - AF2Rank uses native structure as input template and assess the \n",
        "#@markdown agreement between sequence and structure using AlphaFold's confidence metrics.\n",
        "#@markdown - The \"composite\" metric is defined as pLDDT * pTMscore. (WIP: TMscore between input/output not yet implemented.)\n",
        "rm_template_interchain = False #@param {type:\"boolean\"}\n",
        "#@markdown - Remove interface template info. (Recommended for evaluating redesigned interfaces).\n",
        "constrain_fix_pos = False #@param {type:\"boolean\"}\n",
        "#@markdown - constrain fixed position (aka do not remove template sequence/sidechain on for fixed positions)\n",
        "if not os.path.isdir(\"params\"):\n",
        "  os.system(\"mkdir params\")\n",
        "  os.system(\"curl -fsSL https://storage.googleapis.com/alphafold/alphafold_params_2022-03-02.tar | tar x -C params\")\n",
        "\n",
        "# where pdb files will be save:\n",
        "if not os.path.isdir(\"all_pdb\"): os.system(\"mkdir all_pdb\")\n",
        "else: os.system(\"rm all_pdb/*\")\n",
        "\n",
        "from colabdesign.af import mk_af_model\n",
        "af_args = [pdb_path, chains, homooligomer,\n",
        "           use_multimer, use_AF2Rank]\n",
        "\n",
        "if \"af_args_current\" not in dir() or af_args != af_arg_current:\n",
        "  af_model = mk_af_model(use_multimer=use_multimer,\n",
        "                         use_templates=use_AF2Rank,\n",
        "                         best_metric=\"dgram_cce\")\n",
        "  af_model.prep_inputs(pdb_path,chains,homooligomer=homooligomer)\n",
        "  af_arg_current = [x for x in af_args]\n",
        "\n",
        "af_model.restart()\n",
        "if use_AF2Rank:\n",
        "  af_model.set_opt(\"template\", rm_ic=rm_template_interchain)\n",
        "  if constrain_fix_pos and \"fix_pos\" in mpnn_model._inputs:\n",
        "    p = mpnn_model._inputs[\"fix_pos\"]\n",
        "    af_model._inputs[\"rm_template_seq\"][p] = False\n",
        "    af_model._inputs[\"rm_template_sc\"][p] = False\n",
        "  else:\n",
        "    af_model._inputs[\"rm_template_seq\"][:] = True\n",
        "    af_model._inputs[\"rm_template_sc\"][:] = True\n",
        "\n",
        "for S in out[\"S\"]:\n",
        "  seq = S[:af_model._len].argmax(-1)\n",
        "  af_model.predict(seq=seq,\n",
        "                   num_recycles=num_recycles,\n",
        "                   num_models=num_models,\n",
        "                   verbose=False)\n",
        "  (rmsd, ptm, plddt) = (af_model.aux[\"log\"][k] for k in [\"rmsd\",\"ptm\",\"plddt\"])\n",
        "  if use_AF2Rank:\n",
        "    af_model.aux[\"log\"][\"composite\"] = ptm * plddt\n",
        "    af_model._save_results(save_best=True,\n",
        "                           best_metric=\"composite\",\n",
        "                           metric_higher_better=True)\n",
        "  else:\n",
        "    af_model._save_results(save_best=True)\n",
        "\n",
        "  af_model._k += 1\n",
        "  af_model.save_current_pdb(f\"all_pdb/ptm{ptm:.3f}_plddt{plddt:.3f}_rmsd{rmsd:.3f}_n{af_model._k}.pdb\")\n",
        "\n",
        "af_model.save_pdb(f\"best.pdb\")\n",
        "#@markdown Note: designed pdbs are saved to `all_pdb/`\n"
      ],
      "metadata": {
        "cellView": "form",
        "id": "U_YRqlMraLNl"
      },
      "execution_count": null,
      "outputs": []
    },
    {
      "cell_type": "code",
      "source": [
        "#@title animate\n",
        "color_by = \"plddt\" #@param [\"chain\", \"plddt\", \"rainbow\"]\n",
        "dpi = 100 #@param {type:\"integer\"}\n",
        "HTML(af_model.animate(color_by=color_by, dpi=dpi))"
      ],
      "metadata": {
        "cellView": "form",
        "id": "74LAQHZGTZCH"
      },
      "execution_count": null,
      "outputs": []
    },
    {
      "cell_type": "code",
      "source": [
        "#@title display best protein {run: \"auto\"}\n",
        "color = \"pLDDT\" #@param [\"chain\", \"pLDDT\", \"rainbow\"]\n",
        "show_sidechains = False #@param {type:\"boolean\"}\n",
        "show_mainchains = False #@param {type:\"boolean\"}\n",
        "color_HP = False #@param {type:\"boolean\"}\n",
        "animate = False #@param {type:\"boolean\"}\n",
        "#@markdown - if `num_models` > 1, will iterate through the models when `animate` is enabled.\n",
        "af_model.plot_pdb(show_sidechains=show_sidechains,\n",
        "                  show_mainchains=show_mainchains,\n",
        "                  color=color, color_HP=color_HP, animate=animate)"
      ],
      "metadata": {
        "cellView": "form",
        "id": "OdS7x6MmPpvl"
      },
      "execution_count": null,
      "outputs": []
    },
    {
      "cell_type": "code",
      "source": [
        "# get stats about best sequence\n",
        "print(af_model.get_seq())\n",
        "af_model._tmp[\"best\"][\"aux\"][\"log\"]"
      ],
      "metadata": {
        "id": "ZVCC7jCQW66r"
      },
      "execution_count": null,
      "outputs": []
    }
  ]
}
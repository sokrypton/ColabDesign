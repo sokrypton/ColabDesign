{
  "nbformat": 4,
  "nbformat_minor": 0,
  "metadata": {
    "colab": {
      "provenance": [],
      "collapsed_sections": [],
      "authorship_tag": "ABX9TyMuNpFDqDw9+62+7shUHdOK",
      "include_colab_link": true
    },
    "kernelspec": {
      "name": "python3",
      "display_name": "Python 3"
    },
    "language_info": {
      "name": "python"
    },
    "accelerator": "GPU"
  },
  "cells": [
    {
      "cell_type": "markdown",
      "metadata": {
        "id": "view-in-github",
        "colab_type": "text"
      },
      "source": [
        "<a href=\"https://colab.research.google.com/github/sokrypton/ColabDesign/blob/v1.0.9-alpha/mpnn/examples/proteinmpnn_in_jax.ipynb\" target=\"_parent\"><img src=\"https://colab.research.google.com/assets/colab-badge.svg\" alt=\"Open In Colab\"/></a>"
      ]
    },
    {
      "cell_type": "markdown",
      "source": [
        "#ProteinMPNN in Jax!"
      ],
      "metadata": {
        "id": "IVmFMidn965N"
      }
    },
    {
      "cell_type": "code",
      "source": [
        "#@title import libraries\n",
        "import warnings, os\n",
        "warnings.simplefilter(action='ignore', category=FutureWarning)\n",
        "try:\n",
        "  import colabdesign\n",
        "except:\n",
        "  os.system(\"pip -q install git+https://github.com/sokrypton/ColabDesign.git@v1.0.9-alpha\")\n",
        "  os.system(\"ln -s /usr/local/lib/python3.7/dist-packages/colabdesign colabdesign\")\n",
        "\n",
        "from colabdesign.af import mk_af_model, clear_mem\n",
        "from colabdesign.af.alphafold.common import residue_constants\n",
        "from colabdesign.af.prep import order_aa\n",
        "from colabdesign.mpnn import mk_mpnn_model\n",
        "from IPython.display import HTML\n",
        "\n",
        "import numpy as np\n",
        "import matplotlib.pyplot as plt\n",
        "import jax\n",
        "import jax.numpy as jnp\n",
        "\n",
        "from google.colab import files\n",
        "\n",
        "def get_pdb(pdb_code=\"\"):\n",
        "  if pdb_code is None or pdb_code == \"\":\n",
        "    upload_dict = files.upload()\n",
        "    pdb_string = upload_dict[list(upload_dict.keys())[0]]\n",
        "    with open(\"tmp.pdb\",\"wb\") as out: out.write(pdb_string)\n",
        "    return \"tmp.pdb\"\n",
        "  else:\n",
        "    os.system(f\"wget -qnc https://files.rcsb.org/view/{pdb_code}.pdb\")\n",
        "    return f\"{pdb_code}.pdb\"\n",
        "\n",
        "def af2mpnn(self):\n",
        "  atom_idx = tuple(residue_constants.atom_order[k] for k in [\"N\",\"CA\",\"C\",\"O\"])\n",
        "  X = self._inputs[\"batch\"][\"all_atom_positions\"][:,atom_idx]\n",
        "  mask = self._inputs[\"batch\"][\"all_atom_mask\"][:,1]\n",
        "  inputs ={\"X\":X,\n",
        "           \"S\":self._inputs[\"batch\"][\"aatype\"],\n",
        "           \"mask\":mask,\n",
        "           \"residue_idx\":self._inputs[\"residue_index\"],\n",
        "           \"chain_idx\":self._inputs[\"asym_id\"],\n",
        "           \"key\":self.key(),\n",
        "           \"bias\":self._inputs[\"bias\"]}\n",
        "  return inputs\n",
        "\n",
        "def seq2aa(seq):\n",
        "  return \"\".join([order_aa[aa] for aa in seq.argmax(-1)])"
      ],
      "metadata": {
        "cellView": "form",
        "id": "ZmysbfjRvZkv"
      },
      "execution_count": null,
      "outputs": []
    },
    {
      "cell_type": "code",
      "source": [
        "import re\n",
        "#@markdown ### ProteinMPNN options\n",
        "model_name = \"v_48_020\" #@param [\"v_48_002\", \"v_48_010\", \"v_48_020\", \"v_48_030\"]\n",
        "#@markdown ### Input Options\n",
        "pdb='6MRR' #@param {type:\"string\"}\n",
        "pdb_path = get_pdb(pdb)\n",
        "#@markdown - pdb code (leave blank to get an upload prompt)\n",
        "chains = \"A\" #@param {type:\"string\"}\n",
        "chains = re.sub(\"[^A-Za-z]+\",\",\", chains)\n",
        "\n",
        "clear_mem()\n",
        "af_model = mk_af_model(protocol=\"fixbb\", use_alphafold=False)\n",
        "af_model.prep_inputs(pdb_filename=pdb_path, chain=chains)\n",
        "mpnn_model = mk_mpnn_model(model_name)\n",
        "print(\"length\",sum(af_model._lengths))"
      ],
      "metadata": {
        "cellView": "form",
        "id": "GjdIxO4j-Hnn"
      },
      "execution_count": null,
      "outputs": []
    },
    {
      "cell_type": "code",
      "source": [
        "%%time\n",
        "#@markdown ### Design Options\n",
        "num_seqs = 32 #@param [\"1\", \"2\", \"4\", \"8\", \"16\", \"32\", \"64\"] {type:\"raw\"}\n",
        "\n",
        "sampling_temp = 0.1 #@param [\"0.0001\", \"0.1\", \"0.15\", \"0.2\", \"0.25\", \"0.3\", \"0.5\"] {type:\"raw\"}\n",
        "#@markdown - Sampling temperature for amino acids, T=0.0 means taking argmax, T>>1.0 means sample randomly.\n",
        "\n",
        "# runtime\n",
        "print(f\"score\\tseqid\\tsequence\")\n",
        "mpnn_inputs = af2mpnn(af_model)\n",
        "for n in range(num_seqs+1):\n",
        "  mpnn_inputs[\"key\"] = af_model.key()\n",
        "  mpnn_inputs[\"temperature\"] = sampling_temp\n",
        "  if n == 0:\n",
        "    tmp = mpnn_model.score(**mpnn_inputs)\n",
        "  else:\n",
        "    tmp = mpnn_model.sample(**mpnn_inputs)\n",
        "  tmp = jax.tree_map(np.array, tmp)\n",
        "  seqid = (tmp[\"seq\"].argmax(-1) == af_model._wt_aatype).mean(-1)\n",
        "  print(f'{tmp[\"score\"]:.3f}\\t{seqid:.3f}\\t{seq2aa(tmp[\"seq\"])}')"
      ],
      "metadata": {
        "cellView": "form",
        "id": "NC-B2nld-taW"
      },
      "execution_count": null,
      "outputs": []
    },
    {
      "cell_type": "code",
      "source": [
        "#@markdown ### amino acid probabilties (unconditional)\n",
        "import plotly.express as px\n",
        "mpnn_inputs = af2mpnn(af_model)\n",
        "pssm = jax.nn.softmax(mpnn_model.score(**mpnn_inputs)[\"logits\"])\n",
        "fig = px.imshow(np.array(pssm).T,\n",
        "               labels=dict(x=\"positions\", y=\"amino acids\", color=\"probability\"),\n",
        "               y=residue_constants.restypes,\n",
        "               zmin=0,\n",
        "               zmax=1,\n",
        "               template=\"simple_white\",\n",
        "              )\n",
        "fig.update_xaxes(side=\"top\")\n",
        "fig.show()"
      ],
      "metadata": {
        "cellView": "form",
        "id": "8LtcHb-haU6t"
      },
      "execution_count": null,
      "outputs": []
    }
  ]
}